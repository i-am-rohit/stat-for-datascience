{
  "cells": [
    {
      "cell_type": "code",
      "source": [
        "import random"
      ],
      "metadata": {
        "id": "h5ymbz4P3YDn"
      },
      "execution_count": 1,
      "outputs": []
    },
    {
      "cell_type": "code",
      "source": [
        "data = [random.randint(0,20) for i in range (15)]"
      ],
      "metadata": {
        "id": "UHZ24wXf3cnz"
      },
      "execution_count": 2,
      "outputs": []
    },
    {
      "cell_type": "code",
      "source": [
        "type(data)"
      ],
      "metadata": {
        "id": "dNBBM9oo3j2Q",
        "outputId": "747d2c85-0560-47d1-87bc-35194c9f0b69",
        "colab": {
          "base_uri": "https://localhost:8080/"
        }
      },
      "execution_count": 3,
      "outputs": [
        {
          "output_type": "execute_result",
          "data": {
            "text/plain": [
              "list"
            ]
          },
          "metadata": {},
          "execution_count": 3
        }
      ]
    },
    {
      "cell_type": "code",
      "source": [
        "print(data)"
      ],
      "metadata": {
        "id": "tG3hvr9P-uI8",
        "outputId": "5a29f92d-0c6a-4ff7-d978-80782b09d5cc",
        "colab": {
          "base_uri": "https://localhost:8080/"
        }
      },
      "execution_count": 4,
      "outputs": [
        {
          "output_type": "stream",
          "name": "stdout",
          "text": [
            "[9, 11, 12, 10, 8, 4, 13, 0, 5, 11, 17, 17, 9, 11, 0]\n"
          ]
        }
      ]
    },
    {
      "cell_type": "code",
      "source": [
        "import numpy as np"
      ],
      "metadata": {
        "id": "_n2OnJqp3lA4"
      },
      "execution_count": 5,
      "outputs": []
    },
    {
      "cell_type": "code",
      "source": [
        "average = np.mean(data)\n",
        "SD = np.std(data)"
      ],
      "metadata": {
        "id": "MF7wLtDL40BL"
      },
      "execution_count": 6,
      "outputs": []
    },
    {
      "cell_type": "code",
      "source": [
        "print(average,SD)"
      ],
      "metadata": {
        "id": "_BIfKIwo48VI",
        "outputId": "e934aaf2-2bc5-4b03-d0ca-06d044cb2c32",
        "colab": {
          "base_uri": "https://localhost:8080/"
        }
      },
      "execution_count": 7,
      "outputs": [
        {
          "output_type": "stream",
          "name": "stdout",
          "text": [
            "9.133333333333333 4.964764736509565\n"
          ]
        }
      ]
    },
    {
      "cell_type": "code",
      "source": [
        "outliers = [35,40,50]\n",
        "type(outliers)"
      ],
      "metadata": {
        "id": "ds6Nfm2Q5D4o",
        "outputId": "fc938e5b-b450-45a7-b097-594bf4cf11a5",
        "colab": {
          "base_uri": "https://localhost:8080/"
        }
      },
      "execution_count": 8,
      "outputs": [
        {
          "output_type": "execute_result",
          "data": {
            "text/plain": [
              "list"
            ]
          },
          "metadata": {},
          "execution_count": 8
        }
      ]
    },
    {
      "cell_type": "code",
      "source": [
        "data = data + outliers"
      ],
      "metadata": {
        "id": "-ZGRj_R55cA5"
      },
      "execution_count": 9,
      "outputs": []
    },
    {
      "cell_type": "code",
      "source": [
        "type(data)"
      ],
      "metadata": {
        "id": "myJmharQ6WGb",
        "outputId": "e89640df-5517-43aa-d5e2-83463f8aa230",
        "colab": {
          "base_uri": "https://localhost:8080/"
        }
      },
      "execution_count": 10,
      "outputs": [
        {
          "output_type": "execute_result",
          "data": {
            "text/plain": [
              "list"
            ]
          },
          "metadata": {},
          "execution_count": 10
        }
      ]
    },
    {
      "cell_type": "code",
      "source": [
        "average = np.mean(data)\n",
        "SD = np.std(data)"
      ],
      "metadata": {
        "id": "Xa2Fl4925TQ4"
      },
      "execution_count": 11,
      "outputs": []
    },
    {
      "cell_type": "code",
      "source": [
        "print(average,SD)"
      ],
      "metadata": {
        "id": "Shg43yrf5VoI",
        "outputId": "239be134-b4ae-4197-9562-ec928f42a118",
        "colab": {
          "base_uri": "https://localhost:8080/"
        }
      },
      "execution_count": 12,
      "outputs": [
        {
          "output_type": "stream",
          "name": "stdout",
          "text": [
            "14.555555555555555 13.19184184858296\n"
          ]
        }
      ]
    },
    {
      "cell_type": "code",
      "source": [
        "Outliers = []\n",
        "def detect_outliers(data):\n",
        "  threshold = 3\n",
        "\n",
        "  for i in data:\n",
        "    z_score = (i - average)/SD\n",
        "    if np.abs(z_score) > 3:\n",
        "      outliers.append(z_score)\n",
        "  return outliers"
      ],
      "metadata": {
        "id": "CpTjNfZo6bJe"
      },
      "execution_count": 13,
      "outputs": []
    },
    {
      "cell_type": "code",
      "source": [
        "outlier_pt = detect_outliers(data)\n",
        "print(outlier_pt)"
      ],
      "metadata": {
        "id": "jVO4I01A7pu8",
        "outputId": "4cc349dd-9247-4eb3-fbc0-8c72f717de5d",
        "colab": {
          "base_uri": "https://localhost:8080/"
        }
      },
      "execution_count": 14,
      "outputs": [
        {
          "output_type": "stream",
          "name": "stdout",
          "text": [
            "[35, 40, 50]\n"
          ]
        }
      ]
    },
    {
      "cell_type": "markdown",
      "source": [
        "<h1> interquartile range</h1>"
      ],
      "metadata": {
        "id": "FrxeqwG_jyar"
      }
    },
    {
      "cell_type": "code",
      "source": [
        "print(data)"
      ],
      "metadata": {
        "id": "o5QZ1mFg70Lg",
        "outputId": "c39a91fa-8ec9-4fe2-dda6-075aa6442493",
        "colab": {
          "base_uri": "https://localhost:8080/"
        }
      },
      "execution_count": 15,
      "outputs": [
        {
          "output_type": "stream",
          "name": "stdout",
          "text": [
            "[9, 11, 12, 10, 8, 4, 13, 0, 5, 11, 17, 17, 9, 11, 0, 35, 40, 50]\n"
          ]
        }
      ]
    },
    {
      "cell_type": "code",
      "source": [
        "data = np.sort(data)"
      ],
      "metadata": {
        "id": "5xLSE-Al8xYw"
      },
      "execution_count": 16,
      "outputs": []
    },
    {
      "cell_type": "code",
      "source": [
        "data"
      ],
      "metadata": {
        "id": "_YIwivk_l5rx",
        "outputId": "3ca2df6d-0188-4e24-ae24-45b346b0fe2c",
        "colab": {
          "base_uri": "https://localhost:8080/"
        }
      },
      "execution_count": 17,
      "outputs": [
        {
          "output_type": "execute_result",
          "data": {
            "text/plain": [
              "array([ 0,  0,  4,  5,  8,  9,  9, 10, 11, 11, 11, 12, 13, 17, 17, 35, 40,\n",
              "       50])"
            ]
          },
          "metadata": {},
          "execution_count": 17
        }
      ]
    },
    {
      "cell_type": "code",
      "source": [
        "data.size"
      ],
      "metadata": {
        "id": "4k1OQTaOm1-u",
        "outputId": "3d7cdcf4-027d-4808-b417-93360903f3b9",
        "colab": {
          "base_uri": "https://localhost:8080/"
        }
      },
      "execution_count": 18,
      "outputs": [
        {
          "output_type": "execute_result",
          "data": {
            "text/plain": [
              "18"
            ]
          },
          "metadata": {},
          "execution_count": 18
        }
      ]
    },
    {
      "cell_type": "code",
      "source": [
        "quartile1, quartile3 = np.percentile(data,[25,75])"
      ],
      "metadata": {
        "id": "lB_B7FS4l6nQ"
      },
      "execution_count": 19,
      "outputs": []
    },
    {
      "cell_type": "code",
      "source": [
        "print(\"quartile 1 : \", quartile1, \"\\n\", \"quartile 2 : \", quartile3)"
      ],
      "metadata": {
        "id": "w63TjepLmIVI",
        "outputId": "8f5ed380-a14d-41fe-bb94-34562acb5b7b",
        "colab": {
          "base_uri": "https://localhost:8080/"
        }
      },
      "execution_count": 20,
      "outputs": [
        {
          "output_type": "stream",
          "name": "stdout",
          "text": [
            "quartile 1 :  8.25 \n",
            " quartile 2 :  16.0\n"
          ]
        }
      ]
    },
    {
      "cell_type": "code",
      "source": [
        "## Find the IQR\n",
        "\n",
        "iqr=quartile3-quartile1\n",
        "print(iqr)\n"
      ],
      "metadata": {
        "id": "oA3zntACmeZY",
        "outputId": "64629456-1b04-42df-b0d0-d5972dfb1ecd",
        "colab": {
          "base_uri": "https://localhost:8080/"
        }
      },
      "execution_count": 21,
      "outputs": [
        {
          "output_type": "stream",
          "name": "stdout",
          "text": [
            "7.75\n"
          ]
        }
      ]
    },
    {
      "cell_type": "code",
      "source": [
        "lower_bound_val = quartile1 -(1.5 * iqr)\n",
        "upper_bound_val = quartile3 +(1.5 * iqr)"
      ],
      "metadata": {
        "id": "aVnkyvQYo3cc"
      },
      "execution_count": 22,
      "outputs": []
    },
    {
      "cell_type": "code",
      "source": [
        "print(\"Lower_bound : \",lower_bound_val, \"\\n\", \"Upper_bound : \",upper_bound_val)"
      ],
      "metadata": {
        "id": "mXTXe6GMpMZY",
        "outputId": "7f22fef6-5f7e-4d62-c503-cea73b271ab9",
        "colab": {
          "base_uri": "https://localhost:8080/"
        }
      },
      "execution_count": 23,
      "outputs": [
        {
          "output_type": "stream",
          "name": "stdout",
          "text": [
            "Lower_bound :  -3.375 \n",
            " Upper_bound :  27.625\n"
          ]
        }
      ]
    },
    {
      "cell_type": "code",
      "source": [],
      "metadata": {
        "id": "r-g2swcypjAw"
      },
      "execution_count": 23,
      "outputs": []
    }
  ],
  "metadata": {
    "colab": {
      "provenance": []
    },
    "kernelspec": {
      "display_name": "Python 3",
      "name": "python3"
    }
  },
  "nbformat": 4,
  "nbformat_minor": 0
}